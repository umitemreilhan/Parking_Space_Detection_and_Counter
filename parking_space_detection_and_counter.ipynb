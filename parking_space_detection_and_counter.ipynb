{
 "cells": [
  {
   "attachments": {},
   "cell_type": "markdown",
   "metadata": {},
   "source": [
    "Import Libraries"
   ]
  },
  {
   "cell_type": "code",
   "execution_count": 5,
   "metadata": {},
   "outputs": [],
   "source": [
    "import cv2\n",
    "import pickle\n",
    "import numpy as np\n",
    "import cvzone"
   ]
  },
  {
   "attachments": {},
   "cell_type": "markdown",
   "metadata": {},
   "source": [
    "Parking Space Picker"
   ]
  },
  {
   "cell_type": "code",
   "execution_count": 6,
   "metadata": {},
   "outputs": [],
   "source": [
    "img=cv2.imread(r\"C:\\Users\\umite\\Desktop\\vs_yapay_zeka\\parking_space_counter\\carParkImg.png\") # Getting our park area image.\n",
    "\n",
    "width,height=107,48 # Width and height of only for one car parking area.\n",
    "\n",
    "try:\n",
    "    with open(\"CarParkPos\",\"rb\") as f: # Getting position information, if we have a position list .\n",
    "            pos_list=pickle.load(f)\n",
    "except:\n",
    "    pos_list=[] # New position list, if we don't have position list.\n",
    "\n",
    "def mouse_click(events,x,y,flags,params):\n",
    "    if events==cv2.EVENT_LBUTTONDOWN: # When we click left button of mouse we can draw a new park area.\n",
    "        pos_list.append((x,y))\n",
    "    \n",
    "    if events==cv2.EVENT_RBUTTONDOWN: # When we click right button of mouse we can delete park area.\n",
    "        for i,pos in enumerate(pos_list):\n",
    "            x1,y1=pos\n",
    "            if x1<x<x1+width and y1<y<y1+height:\n",
    "                pos_list.pop(i)\n",
    "    \n",
    "    with open(\"CarParkPos\",\"wb\") as f: # We're reading position list.\n",
    "        pickle.dump(pos_list,f)\n",
    "\n",
    "\n",
    "while True:\n",
    "\n",
    "    for pos in pos_list:\n",
    "        cv2.rectangle(img,pos,(pos[0]+width,pos[1]+height),(255,0,255),2) # We can draw purple rectangles to describe.\n",
    "\n",
    "    cv2.imshow(\"Image\",img)\n",
    "\n",
    "    cv2.setMouseCallback(\"Image\",mouse_click)\n",
    "\n",
    "    cv2.waitKey(1)\n",
    "\n",
    "\n",
    "\n",
    "    k=cv2.waitKey(30) & 0xFF # When we click ESC, All windows destroy.\n",
    "    if k==27:\n",
    "        break\n",
    "cv2.destroyAllWindows()"
   ]
  },
  {
   "attachments": {},
   "cell_type": "markdown",
   "metadata": {},
   "source": [
    "Detect, Show and Count Empty Park Area"
   ]
  },
  {
   "cell_type": "code",
   "execution_count": 7,
   "metadata": {},
   "outputs": [],
   "source": [
    "cap=cv2.VideoCapture(r\"C:\\Users\\umite\\Desktop\\vs_yapay_zeka\\parking_space_counter\\carPark.mp4\") # Getting video.\n",
    "\n",
    "with open(\"CarParkPos\",\"rb\") as f: # Getting position information.\n",
    "    pos_list=pickle.load(f)\n",
    "\n",
    "succes,img=cap.read()\n",
    "\n",
    "\n",
    "width,height=107,48 # Width and height of only for one car parking area.\n",
    "\n",
    "def check_parking_space(img_pro):\n",
    "\n",
    "    space_counter=0 # Space counter\n",
    "\n",
    "    for pos in pos_list:\n",
    "        x,y=pos # Park area positions\n",
    "\n",
    "        img_cropped=img_pro[y:y+height,x:x+width] # Crop every parking area.\n",
    "\n",
    "        count=cv2.countNonZero(img_cropped) # We count nonZero pixels, so we can see is it full or empty.\n",
    "        perc=round(count/2600,2)\n",
    "        cvzone.putTextRect(img,str(perc),(x,y+height-3),scale=1,thickness=2,offset=0) # How many percentage of parking area is full?\n",
    "\n",
    "        if count<900: # 900 is our threshold to make decision is it full or empty. If nonZero pixels are under 900, it's empty. Else not.\n",
    "            color=(0,255,0)\n",
    "            thickess=5\n",
    "            space_counter=space_counter+1 # If it's empty we add to count empty parking areas.\n",
    "\n",
    "        else:\n",
    "            color=(0,0,255)\n",
    "            thickess=2\n",
    "\n",
    "        cv2.rectangle(img,pos,(pos[0]+width,pos[1]+height),color=color,thickness=thickess) # Drawing rectabgles by situation. If it's empty rectangle is green, else red.\n",
    "    \n",
    "    cvzone.putTextRect(img,f\"Free: {space_counter}/{len(pos_list)}\",(100,50),scale=3,thickness=5,offset=20,colorR=(0,220,0)) # Typing number of free parking areas.\n",
    "\n",
    "\n",
    "\n",
    "while True:\n",
    "\n",
    "    if cap.get(cv2.CAP_PROP_POS_FRAMES)==cap.get(cv2.CAP_PROP_FRAME_COUNT):\n",
    "        cap.set(cv2.CAP_PROP_POS_FRAMES,0)\n",
    "\n",
    "    succes,img=cap.read()\n",
    "\n",
    "    img_gray=cv2.cvtColor(img,cv2.COLOR_BGR2GRAY) # Color transformation BGR to GRAY.\n",
    "    img_blurred=cv2.GaussianBlur(img_gray,(3,3),1) # Blurring image.\n",
    "    img_thresholded=cv2.adaptiveThreshold(img_blurred,255,cv2.ADAPTIVE_THRESH_GAUSSIAN_C,cv2.THRESH_BINARY_INV,25,16) # All image black or white by thresholding.\n",
    "    img_median=cv2.medianBlur(img_thresholded,5) # It's clear when we make medianBlur.\n",
    "    kernel = np.ones((3, 3), np.uint8)\n",
    "    img_dilated=cv2.dilate(img_median,kernel,iterations=1) # Dilation for better results.\n",
    "\n",
    "    \n",
    "    check_parking_space(img_dilated)\n",
    "\n",
    "    cv2.imshow(\"Video\",img)\n",
    "    #cv2.imshow(\"Video Blurred\",img_blurred)\n",
    "    #cv2.imshow(\"Video Thresholded\",img_thresholded)\n",
    "    #cv2.imshow(\"Video Median\",img_median)\n",
    "    #cv2.imshow(\"Video Dilated\",img_dilated)\n",
    "\n",
    "    k=cv2.waitKey(30) & 0xFF\n",
    "    if k==27:\n",
    "        break\n",
    "cap.release()\n",
    "cv2.destroyAllWindows()\n",
    "\n"
   ]
  }
 ],
 "metadata": {
  "kernelspec": {
   "display_name": "base",
   "language": "python",
   "name": "python3"
  },
  "language_info": {
   "codemirror_mode": {
    "name": "ipython",
    "version": 3
   },
   "file_extension": ".py",
   "mimetype": "text/x-python",
   "name": "python",
   "nbconvert_exporter": "python",
   "pygments_lexer": "ipython3",
   "version": "3.9.7"
  },
  "orig_nbformat": 4,
  "vscode": {
   "interpreter": {
    "hash": "36e4d1299e698d9b0fe4441c2e845213d7e86efc0b1568dab8bcc04473c763d8"
   }
  }
 },
 "nbformat": 4,
 "nbformat_minor": 2
}
